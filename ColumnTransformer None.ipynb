{
 "cells": [
  {
   "cell_type": "code",
   "execution_count": 8,
   "metadata": {},
   "outputs": [],
   "source": [
    "from sklearn.compose import ColumnTransformer\n",
    "from sklearn.pipeline import Pipeline\n",
    "import pandas as pd\n",
    "import numpy as np"
   ]
  },
  {
   "cell_type": "code",
   "execution_count": 9,
   "metadata": {},
   "outputs": [],
   "source": [
    "from sklearn.base import BaseEstimator, TransformerMixin\n",
    "\n",
    "class t(BaseEstimator, TransformerMixin):\n",
    "    \n",
    "    def __init__(self, param=0.5):\n",
    "        self.__param = param\n",
    "        \n",
    "    def fit(self, X, y):\n",
    "        print(\"fit\", self.__param)\n",
    "        return self\n",
    "    \n",
    "    def transform(self, X):\n",
    "        return X"
   ]
  },
  {
   "cell_type": "code",
   "execution_count": 10,
   "metadata": {},
   "outputs": [],
   "source": [
    "p = Pipeline(steps=[\n",
    "    ('t', t())\n",
    "])\n",
    "c1 = ColumnTransformer(transformers=[\n",
    "    ('p', p, ['x0'])\n",
    "])\n",
    "\n",
    "c2 = ColumnTransformer(transformers=[\n",
    "    ('t', t(), ['x0'])\n",
    "])\n",
    "\n",
    "X = pd.DataFrame({\"x0\": [1, 3], \"x1\": [2, 4]})\n",
    "y = np.array([1, -1])"
   ]
  },
  {
   "cell_type": "code",
   "execution_count": 11,
   "metadata": {},
   "outputs": [
    {
     "name": "stdout",
     "output_type": "stream",
     "text": [
      "fit 0.5\n"
     ]
    },
    {
     "data": {
      "text/plain": [
       "Pipeline(memory=None, steps=[('t', t(param=None))], verbose=False)"
      ]
     },
     "execution_count": 11,
     "metadata": {},
     "output_type": "execute_result"
    }
   ],
   "source": [
    "p.fit(X, y)"
   ]
  },
  {
   "cell_type": "code",
   "execution_count": 12,
   "metadata": {},
   "outputs": [
    {
     "name": "stdout",
     "output_type": "stream",
     "text": [
      "fit None\n"
     ]
    },
    {
     "data": {
      "text/plain": [
       "ColumnTransformer(n_jobs=None, remainder='drop', sparse_threshold=0.3,\n",
       "                  transformer_weights=None,\n",
       "                  transformers=[('p',\n",
       "                                 Pipeline(memory=None,\n",
       "                                          steps=[('t', t(param=None))],\n",
       "                                          verbose=False),\n",
       "                                 ['x0'])],\n",
       "                  verbose=False)"
      ]
     },
     "execution_count": 12,
     "metadata": {},
     "output_type": "execute_result"
    }
   ],
   "source": [
    "c1.fit(X, y)"
   ]
  },
  {
   "cell_type": "code",
   "execution_count": 13,
   "metadata": {},
   "outputs": [
    {
     "name": "stdout",
     "output_type": "stream",
     "text": [
      "fit None\n"
     ]
    },
    {
     "data": {
      "text/plain": [
       "ColumnTransformer(n_jobs=None, remainder='drop', sparse_threshold=0.3,\n",
       "                  transformer_weights=None,\n",
       "                  transformers=[('t', t(param=None), ['x0'])], verbose=False)"
      ]
     },
     "execution_count": 13,
     "metadata": {},
     "output_type": "execute_result"
    }
   ],
   "source": [
    "c2.fit(X, y)"
   ]
  },
  {
   "cell_type": "code",
   "execution_count": 14,
   "metadata": {},
   "outputs": [
    {
     "name": "stdout",
     "output_type": "stream",
     "text": [
      "\n",
      "System:\n",
      "    python: 3.7.1 (v3.7.1:260ec2c36a, Oct 20 2018, 14:57:15) [MSC v.1915 64 bit (AMD64)]\n",
      "executable: c:\\users\\omerb\\appdata\\local\\programs\\python\\python37\\python.exe\n",
      "   machine: Windows-10-10.0.17763-SP0\n",
      "\n",
      "Python deps:\n",
      "       pip: 19.2.1\n",
      "setuptools: 39.0.1\n",
      "   sklearn: 0.21.3\n",
      "     numpy: 1.15.4\n",
      "     scipy: 1.1.0\n",
      "    Cython: None\n",
      "    pandas: 0.25.0\n"
     ]
    }
   ],
   "source": [
    "import sklearn; sklearn.show_versions()"
   ]
  },
  {
   "cell_type": "code",
   "execution_count": null,
   "metadata": {},
   "outputs": [],
   "source": []
  }
 ],
 "metadata": {
  "kernelspec": {
   "display_name": "Python 3",
   "language": "python",
   "name": "python3"
  },
  "language_info": {
   "codemirror_mode": {
    "name": "ipython",
    "version": 3
   },
   "file_extension": ".py",
   "mimetype": "text/x-python",
   "name": "python",
   "nbconvert_exporter": "python",
   "pygments_lexer": "ipython3",
   "version": "3.7.1"
  }
 },
 "nbformat": 4,
 "nbformat_minor": 2
}
